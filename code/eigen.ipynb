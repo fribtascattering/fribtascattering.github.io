{
 "cells": [
  {
   "cell_type": "markdown",
   "id": "instructional-glance",
   "metadata": {},
   "source": [
    "# Momentum-space scattering wavefunctions as eigenstates"
   ]
  },
  {
   "cell_type": "markdown",
   "id": "valid-gothic",
   "metadata": {},
   "source": [
    "---\n",
    "This code is made available as part of the **FRIB-TA Summer School: A Practical Walk Through Formal Scattering Theory: Connecting Bound States, Resonances, and Scattering States in Exotic Nuclei and Beyond**, held virtually\n",
    "August 4-6, 2021.\n",
    "\n",
    "https://fribtascattering.github.io/\n",
    "\n",
    "*Organizers/Lecturers:*\n",
    "- Kévin Fossez (MSU/ANL)\n",
    "- Sebastian König (NCSU)\n",
    "- Heiko Hergert (MSU)\n",
    "\n",
    "*Author:* Sebastian König\n",
    "\n",
    "*Last update:* Aug 11, 2021\n",
    "\n",
    "---"
   ]
  },
  {
   "cell_type": "markdown",
   "id": "hawaiian-winter",
   "metadata": {},
   "source": [
    "We solve once more the momentum-space Lippmann-Schwinger equation in a fixed partial wave,\n",
    "\n",
    "\\begin{equation}\n",
    "T(E_k+\\mathrm{i}\\varepsilon;p,k) = V(p,k)\n",
    "+\\int\\frac{\\mathrm{d}q\\,q^2}{2\\pi^2} V(p,q)\n",
    "G_0(E_k+\\mathrm{i}\\varepsilon;q)\n",
    "T(E_k+\\mathrm{i}\\varepsilon;q,p) \\,,\n",
    "\\end{equation}\n",
    "\n",
    "with $\\varepsilon\\to0$ implied."
   ]
  },
  {
   "cell_type": "markdown",
   "id": "fewer-inspiration",
   "metadata": {},
   "source": [
    "## System and potential"
   ]
  },
  {
   "cell_type": "markdown",
   "id": "guided-capture",
   "metadata": {},
   "source": [
    "We consider here again our previously introduced simple system (mass $m=1$ and $\\hbar c=1$), and Gaussian potential:"
   ]
  },
  {
   "cell_type": "code",
   "execution_count": null,
   "id": "systematic-porcelain",
   "metadata": {},
   "outputs": [],
   "source": [
    "from lib.system import *\n",
    "from lib.potential import *\n",
    "\n",
    "sys = System()\n",
    "V = V_Gauss(sys, -4.0, 2.0)"
   ]
  },
  {
   "cell_type": "markdown",
   "id": "stretch-tenant",
   "metadata": {},
   "source": [
    "## Equation solving"
   ]
  },
  {
   "cell_type": "markdown",
   "id": "interpreted-douglas",
   "metadata": {},
   "source": [
    "We copy the basic infrastructure for solving the half off-shell Lippmann-Schwinger equation from what we used before:"
   ]
  },
  {
   "cell_type": "code",
   "execution_count": null,
   "id": "stone-parliament",
   "metadata": {},
   "outputs": [],
   "source": [
    "from lib.mesh import *\n",
    "from lib.operator import *\n",
    "\n",
    "G0 = G_0(sys)"
   ]
  },
  {
   "cell_type": "markdown",
   "id": "powerful-approach",
   "metadata": {},
   "source": [
    "As only modification, we pass here the mesh explicitly as a parameter:"
   ]
  },
  {
   "cell_type": "code",
   "execution_count": null,
   "id": "crucial-intellectual",
   "metadata": {},
   "outputs": [],
   "source": [
    "def kernel(mesh, E):\n",
    "  factor = 0.5 / np.pi**2\n",
    "\n",
    "  K = map(\n",
    "    lambda p: list(map(\n",
    "      lambda qw: factor * qw[1] * qw[0]**2 \\\n",
    "        * (G0.residue(qw[0]) if qw[2] else G0(E, qw[0])) \\\n",
    "        * V.get(0, p, qw[0]),\n",
    "      mesh.pws()\n",
    "    )), mesh.ps()\n",
    "  )\n",
    "\n",
    "  return np.asarray(list(K))"
   ]
  },
  {
   "cell_type": "code",
   "execution_count": null,
   "id": "academic-three",
   "metadata": {},
   "outputs": [],
   "source": [
    "def solve(mesh, k):\n",
    "  mesh.push_pv(k)\n",
    "  \n",
    "  mat = np.identity(mesh.size()) - kernel(mesh, sys.e_from_k(k))\n",
    "  vec = np.asarray(list(map(lambda p: V.get(0, p, k), mesh.ps())))\n",
    "  \n",
    "  sol = np.linalg.solve(mat, vec)\n",
    "  \n",
    "  mesh.pop_pv()\n",
    "  \n",
    "  return sol;"
   ]
  },
  {
   "cell_type": "markdown",
   "id": "clear-western",
   "metadata": {},
   "source": [
    "`solve` then gives us $T(E_k;p,k)$ for fixed $k$ and disretized $p$, and with that half off-shell T-matrix we\n",
    "and construct scattering wavefunctions as\n",
    "\n",
    "\\begin{equation}\n",
    " \\psi^{(+)}_k(q)\n",
    " = \\frac{2\\pi^2\\delta(q-k)}{k^2} + \\frac{2\\mu T(E_k;q,k)}{k^2 - q^2 + \\mathrm{i}\\varepsilon} \\,.\n",
    "\\end{equation}\n",
    "\n",
    "We now want to demonstrate in which sense exactly these wavefunctions define eigenstates of the Hamiltonian, i.e.,\n",
    "we want to verify that indeed\n",
    "\n",
    "\\begin{equation}\n",
    " H|\\psi^{(+)}_k\\rangle = E_k|\\psi^{(+)}_k\\rangle\n",
    "\\end{equation}\n",
    "\n",
    "based on our discretized represenation of $|\\psi^{(+)}_k\\rangle$."
   ]
  },
  {
   "cell_type": "markdown",
   "id": "severe-colombia",
   "metadata": {},
   "source": [
    "## Delta functions via interpolation"
   ]
  },
  {
   "cell_type": "markdown",
   "id": "thirty-philosophy",
   "metadata": {},
   "source": [
    "We note that in overlaps $\\langle\\phi|\\psi^{(+)}_k\\rangle$ with smooth $|\\phi\\rangle$, the first term can be evaluated analytically.  While that is an obvious thing to do, it actually *complicates* the numerical implementation.  What we would like instead is a simple vector representation of the wavefunction as a whole."
   ]
  },
  {
   "cell_type": "markdown",
   "id": "robust-maldives",
   "metadata": {},
   "source": [
    "To that end, we use an **interpolator class** provided by our library.  In its standard mode of operation, it can be used as an alternative to `interp1d` from `scipy.interpolate` (which we used previously):"
   ]
  },
  {
   "cell_type": "code",
   "execution_count": null,
   "id": "august-mailman",
   "metadata": {},
   "outputs": [],
   "source": [
    "from lib.mesh import *\n",
    "from lib.interpolation import *\n",
    "\n",
    "mesh = GaulegMesh(16, 0.0, 4.0)\n",
    "interp = GlobalSplineInterpolator(mesh.ps())\n",
    "\n",
    "fs = list(map(lambda p: np.sin(p), mesh.ps()))\n",
    "\n",
    "print(interp(fs, 1.0))\n",
    "print(np.sin(1.0))"
   ]
  },
  {
   "cell_type": "markdown",
   "id": "french-circus",
   "metadata": {},
   "source": [
    "The way this interpolator works is by evaluating a particular set of \"spline functions\" $S_i$ at the target point $p_0$, and summing the result with the target function evaluated at the mesh points used to construct the interpolator:\n",
    "\n",
    "\\begin{equation}\n",
    " f(p_0) = \\sum_i S_i(p_0) f(p_i)\n",
    "\\end{equation}\n",
    "\n",
    "Note that the right-hand side is a dot product of the two vectors $S_i(p_0)$ and $f(p_i)$, and $S_i(p_0)$ acts like a discretized version of $\\delta(p-p_0)$.  We can use this as follows:"
   ]
  },
  {
   "cell_type": "code",
   "execution_count": null,
   "id": "premier-packet",
   "metadata": {},
   "outputs": [],
   "source": [
    "p0 = 1.0\n",
    "ds = [interp.S(i, p0) for i in range(0, mesh.size())]\n",
    "\n",
    "print(np.dot(ds, fs))"
   ]
  },
  {
   "cell_type": "markdown",
   "id": "suited-warning",
   "metadata": {},
   "source": [
    "With this, constructing a discretized delta function for a given integration mesh is simply a matter of putting in the appropriate weights:"
   ]
  },
  {
   "cell_type": "code",
   "execution_count": null,
   "id": "cooked-luxury",
   "metadata": {},
   "outputs": [],
   "source": [
    "def delta(mesh, p0):\n",
    "  interp = GlobalSplineInterpolator(mesh.ps())\n",
    "  return [interp.S(i, p0) / mesh.w(i) for i in range(0, mesh.size())]"
   ]
  },
  {
   "cell_type": "markdown",
   "id": "insured-filling",
   "metadata": {},
   "source": [
    "## Full wavefunction"
   ]
  },
  {
   "cell_type": "markdown",
   "id": "psychological-germany",
   "metadata": {},
   "source": [
    "We now have all we need to represent the full wavefunction on the mesh as\n",
    "\n",
    "\\begin{equation}\n",
    " \\psi_i = \\psi^{(+)}_k(p_i) \\,.\n",
    "\\end{equation}"
   ]
  },
  {
   "cell_type": "markdown",
   "id": "personalized-hardware",
   "metadata": {},
   "source": [
    "Of course, we the second term,\n",
    "\n",
    "\\begin{equation}\n",
    " \\frac{2\\mu T(E_k;q,k)}{k^2 - q^2 + \\mathrm{i}\\varepsilon} = G_0(E_k+\\mathrm{i}\\varepsilon) T(E_k;q,k)\n",
    "\\end{equation}\n",
    "\n",
    "we still need to account for the singularity in the limite $\\varepsilon\\to0$, handled by our principal-value integration."
   ]
  },
  {
   "cell_type": "markdown",
   "id": "overhead-fifteen",
   "metadata": {},
   "source": [
    "Our `solve` function already returns the residue of $T(E_k;q,k)$ at $q=k$ as the extra point in our vector, and we need only make sure we multiply it by the appropriate residue of the Green's function:"
   ]
  },
  {
   "cell_type": "code",
   "execution_count": null,
   "id": "annual-diabetes",
   "metadata": {},
   "outputs": [],
   "source": [
    "import copy\n",
    "\n",
    "def psi(mesh, k):\n",
    "  ts = solve(mesh, k)\n",
    "  \n",
    "  mesh_pv = copy.deepcopy(mesh)\n",
    "  mesh_pv.push_pv(k)\n",
    "  \n",
    "  ds = delta(mesh_pv, k)\n",
    "  e = sys.e_from_k(k)\n",
    "  \n",
    "  wf = [\n",
    "    (np.pi**2 / sys.mu * d / k**2 + G0(e, pw[0]) * t if not pw[2] else t * G0.residue(k))\n",
    "    for pw, d, t in zip(mesh_pv.pws(), ds, ts)\n",
    "  ]\n",
    "  \n",
    "  return wf, mesh_pv"
   ]
  },
  {
   "cell_type": "markdown",
   "id": "sized-grain",
   "metadata": {},
   "source": [
    "Note that for later convenience we return along with the wavefunction a copy of the mesh that has the principal-value point left."
   ]
  },
  {
   "cell_type": "markdown",
   "id": "continuing-tumor",
   "metadata": {},
   "source": [
    "## Hamiltonian and inner products"
   ]
  },
  {
   "cell_type": "markdown",
   "id": "dimensional-workplace",
   "metadata": {},
   "source": [
    "Now, in order to calculate $H|\\psi^{(+)}_p\\rangle$, we of course need a matrix representation of $H = H_0+V$.  The kinetic part $H_0$ is simply a diagonal matrix in momentum space, but for the potential part we need to take into account that its application is defined via an integral, just like when we constructed the kernel matrix for solving the Lippmann-Schwinger equations:\n",
    "\n",
    "\\begin{equation}\n",
    " \\langle p|V|\\psi\\rangle = \\frac{1}{2\\pi^2}\\int\\mathrm{d}q\\,q^2 V(p,q) \\psi(q)\n",
    "\\end{equation}\n",
    "\n",
    "We need to discretize this integral to obtain the Hamiltonian defined on a given mesh:"
   ]
  },
  {
   "cell_type": "code",
   "execution_count": null,
   "id": "square-office",
   "metadata": {},
   "outputs": [],
   "source": [
    "def ham(sys, V, mesh):\n",
    "  factor = 0.5 / np.pi**2\n",
    "  \n",
    "  V_mat = np.asarray(list(map(\n",
    "    lambda pw: list(map(\n",
    "      lambda qw: factor * qw[1] * qw[0]**2 * V.get(0, pw[0], qw[0]),\n",
    "      mesh.pws()\n",
    "    )) if not pw[2] else np.zeros(mesh.size()), mesh.pws()\n",
    "  )))\n",
    "  \n",
    "  H0_mat = np.diag(list(map(\n",
    "    lambda p: 0.5 * p**2 / sys.mu,\n",
    "    mesh.ps()\n",
    "  )))\n",
    "  \n",
    "  return H0_mat + V_mat"
   ]
  },
  {
   "cell_type": "markdown",
   "id": "unlimited-society",
   "metadata": {},
   "source": [
    "Since we want to apply the Hamiltonian to scattering states, we have accounted in the above definition for the possibility of principal-value contributions in the mesh."
   ]
  },
  {
   "cell_type": "markdown",
   "id": "soviet-explosion",
   "metadata": {},
   "source": [
    "As a bonus, with the Hamiltonian in matrix form, we can easily look for bound states via direct diagonalization (finding exactly one):"
   ]
  },
  {
   "cell_type": "code",
   "execution_count": null,
   "id": "chronic-clinton",
   "metadata": {},
   "outputs": [],
   "source": [
    "H = ham(sys, V, mesh)\n",
    "\n",
    "es, wfs = np.linalg.eig(H)\n",
    "\n",
    "print(es)"
   ]
  },
  {
   "cell_type": "markdown",
   "id": "straight-journal",
   "metadata": {},
   "source": [
    "To proceed we note that in the partial-wave projected momentum-space formalism inner products are generally defined as\n",
    "\n",
    "\\begin{equation}\n",
    " \\langle f|g\\rangle = \\frac{1}{2\\pi^2}\\int\\mathrm{d}q\\,q^2 f(q) g(q)\n",
    "\\end{equation}\n",
    "\n",
    "and the integral $\\int\\mathrm{d}q\\,q^2$ turns into sum $\\sum_j w_j p_j^2$ after discretization.  For bras and kets represeted as simple vectors over a `mesh`, we obtain the following generic implementation:"
   ]
  },
  {
   "cell_type": "code",
   "execution_count": null,
   "id": "nuclear-warrior",
   "metadata": {},
   "outputs": [],
   "source": [
    "def inner(mesh, fs, gs):\n",
    "  acc = 0\n",
    "  for qw, f, g in zip(mesh.pws(), fs, gs):\n",
    "    acc += qw[1] * qw[0]**2 * f * g\n",
    "    \n",
    "  return 0.5 * acc / np.pi**2"
   ]
  },
  {
   "cell_type": "markdown",
   "id": "solved-sherman",
   "metadata": {},
   "source": [
    "**Note that operator application in this formalism, as considered above for the potential, is not symmetric!**  They always act to the right, and the integration measure becomes associated with the column index of the operator:\n",
    "\n",
    "\\begin{equation}\n",
    " \\int\\mathrm{d}q\\,q^2 V(p,q) \\psi(q)\n",
    " \\to\n",
    " \\sum_j w_j q_j^2 V_{ij} \\psi_j\n",
    "\\end{equation}\n",
    "\n",
    "for $V_{ij} = V(p_i,p_j)$ and $\\psi_j = \\psi(p_j)$.\n",
    " "
   ]
  },
  {
   "cell_type": "markdown",
   "id": "given-january",
   "metadata": {},
   "source": [
    "## Bound state"
   ]
  },
  {
   "cell_type": "markdown",
   "id": "radical-pleasure",
   "metadata": {},
   "source": [
    "Before we move on to scattering states, let's look at the bound state as an example and verify that\n",
    "\n",
    "\\begin{equation}\n",
    " E_b = \\frac{\\langle\\psi_b|H|\\psi_b\\rangle}{\\langle\\psi_b|\\psi_b\\rangle} \\,.\n",
    "\\end{equation}"
   ]
  },
  {
   "cell_type": "code",
   "execution_count": null,
   "id": "adopted-destination",
   "metadata": {},
   "outputs": [],
   "source": [
    "i_b = np.argwhere(es < 0)[0]\n",
    "\n",
    "e_b = es[i_b]\n",
    "psi_b = wfs[:,i_b]\n",
    "\n",
    "norm = inner(mesh, psi_b, psi_b)\n",
    "\n",
    "print(inner(mesh, psi_b, H @ psi_b) / norm)\n",
    "print(e_b)"
   ]
  },
  {
   "cell_type": "markdown",
   "id": "recovered-payroll",
   "metadata": {},
   "source": [
    "## Scattering state"
   ]
  },
  {
   "cell_type": "markdown",
   "id": "adjustable-faculty",
   "metadata": {},
   "source": [
    "Taking matrix elements like this (although numerically possible with our fully discretized represenation) does **not** work for scattering states:"
   ]
  },
  {
   "cell_type": "code",
   "execution_count": null,
   "id": "nutritional-contract",
   "metadata": {},
   "outputs": [],
   "source": [
    "mesh = GaulegMesh(16, 0.0, 4.0)\n",
    "\n",
    "k = 1.0\n",
    "psi_k, mesh_k = psi(mesh, k)\n",
    "\n",
    "H_k = ham(sys, V, mesh_k)\n",
    "\n",
    "norm = inner(mesh_k, psi_k, psi_k)\n",
    "\n",
    "print(inner(mesh_k, psi_k, H_k @ psi_k) / norm)\n",
    "print(sys.e_from_k(k))"
   ]
  },
  {
   "cell_type": "markdown",
   "id": "viral-saudi",
   "metadata": {},
   "source": [
    "Instead, we need to take into account that scattering wavefunctions describe **generalized eigenstates**, satisfying\n",
    "\n",
    "\\begin{equation}\n",
    " \\langle\\phi|H|\\psi^{(+)}_k\\rangle = E_k\\langle\\phi|\\psi^{(+)}_k\\rangle\n",
    "\\end{equation}\n",
    "\n",
    "for any **test function** $\\phi(q)$."
   ]
  },
  {
   "cell_type": "markdown",
   "id": "french-cache",
   "metadata": {},
   "source": [
    "For concreteness, we choose Gaussian wave packets\n",
    "\n",
    "\\begin{equation}\n",
    " \\phi_{p,\\sigma}(q) = \\exp\\left({-}\\frac{(q-p)^2}{2\\sigma^2}\\right)\n",
    "\\end{equation}\n",
    "\n",
    "as test functions:"
   ]
  },
  {
   "cell_type": "code",
   "execution_count": null,
   "id": "wooden-preparation",
   "metadata": {},
   "outputs": [],
   "source": [
    "def wave_packet(mesh, p, sigma=1.0):\n",
    "  return [np.exp(-(p - q)**2 / (2.0 * sigma**2)) for q in mesh.ps()]"
   ]
  },
  {
   "cell_type": "markdown",
   "id": "visible-domestic",
   "metadata": {},
   "source": [
    "And indeed with these we can verify the generalized eigenstate property:"
   ]
  },
  {
   "cell_type": "code",
   "execution_count": null,
   "id": "brutal-space",
   "metadata": {},
   "outputs": [],
   "source": [
    "p = 2.0\n",
    "sigma = 1.0\n",
    "phi = wave_packet(mesh_k, p, sigma=sigma)\n",
    "\n",
    "H_k = ham(sys, V, mesh_k)\n",
    "\n",
    "norm = inner(mesh_k, phi, psi_k)\n",
    "\n",
    "print(inner(mesh_k, phi, H_k @ psi_k) / norm)\n",
    "print(sys.e_from_k(k))"
   ]
  }
 ],
 "metadata": {
  "CodeCell": {
   "cm_config": {
    "indentUnit": 2
   }
  },
  "kernelspec": {
   "display_name": "Python 3",
   "language": "python",
   "name": "python3"
  },
  "language_info": {
   "codemirror_mode": {
    "name": "ipython",
    "version": 3
   },
   "file_extension": ".py",
   "mimetype": "text/x-python",
   "name": "python",
   "nbconvert_exporter": "python",
   "pygments_lexer": "ipython3",
   "version": "3.9.2"
  }
 },
 "nbformat": 4,
 "nbformat_minor": 5
}
