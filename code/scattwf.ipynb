{
 "cells": [
  {
   "cell_type": "markdown",
   "id": "removable-ukraine",
   "metadata": {},
   "source": [
    "# Scattering wavefunctions in momentum space"
   ]
  },
  {
   "cell_type": "markdown",
   "id": "artificial-morocco",
   "metadata": {},
   "source": [
    "We consider here again the momentum-space Lippmann-Schwinger equation in a fixed partial wave,\n",
    "\n",
    "\\begin{equation}\n",
    "T(E_k+\\mathrm{i}\\varepsilon;p,k) = V(p,k)\n",
    "+\\int\\frac{\\mathrm{d}q\\,q^2}{2\\pi^2} V(p,q)\n",
    "G_0(E_k+\\mathrm{i}\\varepsilon;q)\n",
    "T(E_k+\\mathrm{i}\\varepsilon;q,p) \\,,\n",
    "\\end{equation}\n",
    "\n",
    "with $\\varepsilon\\to0$ implied, and calculate **scattering wavefunctions** from the solutions of this equation according to\n",
    "\n",
    "\\begin{equation}\n",
    " \\psi^{(+)}_k(q)\n",
    " = \\frac{2\\pi^2\\delta(q-k)}{k^2} + \\frac{2\\mu T(E_k;q,k)}{k^2 - q^2 + \\mathrm{i}\\varepsilon} \\,.\n",
    "\\end{equation}"
   ]
  },
  {
   "cell_type": "markdown",
   "id": "pharmaceutical-equity",
   "metadata": {},
   "source": [
    "## System and potential"
   ]
  },
  {
   "cell_type": "markdown",
   "id": "primary-logic",
   "metadata": {},
   "source": [
    "We consider here again our previously introduced simple system (mass $m=1$ and $\\hbar=1$), and Gaussian potential:"
   ]
  },
  {
   "cell_type": "code",
   "execution_count": null,
   "id": "elegant-fireplace",
   "metadata": {},
   "outputs": [],
   "source": [
    "from lib.system import *\n",
    "from lib.potential import *\n",
    "\n",
    "sys = System()\n",
    "V = V_Gauss(sys, -4.0, 2.0)"
   ]
  },
  {
   "cell_type": "markdown",
   "id": "initial-blair",
   "metadata": {},
   "source": [
    "## Equation solving"
   ]
  },
  {
   "cell_type": "markdown",
   "id": "parliamentary-freeware",
   "metadata": {},
   "source": [
    "We copy the basic infrastructure for solving the half off-shell Lippmann-Schwinger equation from what we used before:"
   ]
  },
  {
   "cell_type": "code",
   "execution_count": null,
   "id": "viral-strike",
   "metadata": {},
   "outputs": [],
   "source": [
    "from lib.mesh import *\n",
    "from lib.operator import *\n",
    "\n",
    "mesh = GaulegMesh(16, 0.0, 4.0)\n",
    "\n",
    "G0 = G_0(sys)"
   ]
  },
  {
   "cell_type": "code",
   "execution_count": null,
   "id": "immune-simple",
   "metadata": {},
   "outputs": [],
   "source": [
    "def kernel(E):\n",
    "  factor = 0.5 / np.pi**2\n",
    "\n",
    "  K = map(\n",
    "    lambda p: list(map(\n",
    "      lambda qw: factor * qw[1] * qw[0]**2 \\\n",
    "        * (G0.residue(qw[0]) if qw[2] else G0(E, qw[0])) \\\n",
    "        * V.get(0, p, qw[0]),\n",
    "      mesh.pws()\n",
    "    )), mesh.ps()\n",
    "  )\n",
    "\n",
    "  return np.asarray(list(K))"
   ]
  },
  {
   "cell_type": "code",
   "execution_count": null,
   "id": "prompt-version",
   "metadata": {},
   "outputs": [],
   "source": [
    "def solve(k):\n",
    "  mesh.push_pv(k)\n",
    "  \n",
    "  mat = np.identity(mesh.size()) - kernel(sys.e_from_k(k))\n",
    "  vec = np.asarray(list(map(lambda p: V.get(0, p, k), mesh.ps())))\n",
    "  \n",
    "  sol = np.linalg.solve(mat, vec)\n",
    "  \n",
    "  mesh.pop_pv()\n",
    "  \n",
    "  return sol;"
   ]
  },
  {
   "cell_type": "markdown",
   "id": "ceramic-administration",
   "metadata": {},
   "source": [
    "`solve` then gives us $T(E_k;p,k)$ for fixed $k$ and disretized $p$."
   ]
  },
  {
   "cell_type": "markdown",
   "id": "convertible-functionality",
   "metadata": {},
   "source": [
    "## Fourier transformation"
   ]
  },
  {
   "cell_type": "markdown",
   "id": "steady-retention",
   "metadata": {},
   "source": [
    "We can calculate the more familiar configuration space wavefunction $\\psi^{(+)}_k(r)$ as the **Fourier-Bessel transform** of $\\psi^{(+)}_k(q)$:\n",
    "\n",
    "\\begin{equation}\n",
    " \\psi^{(+)}_k(r) = \\frac{1}{2\\pi^2}\\int \\mathrm{d}q\\,q^2 j_0(qr) \\psi^{(+)}_k(q)\n",
    "\\end{equation}"
   ]
  },
  {
   "cell_type": "markdown",
   "id": "genetic-fabric",
   "metadata": {},
   "source": [
    "Since we are considering an S-wave state, the integral involves the zero-th order spherical Bessel function $j_0$."
   ]
  },
  {
   "cell_type": "markdown",
   "id": "interim-figure",
   "metadata": {},
   "source": [
    "To compare with a solution of the radial Schrödinger equation for the same potential, what we actually want is the **reduced radial wavefunction** $u(r) = r\\,\\psi^{(+)}_k(r)$.  Note that since we are working in partial waves, $\\psi^{(+)}$ here already has the angular dependence factored out -- for the S-wave case this means there is no additional factor $Y_0^0 = 1/\\sqrt{4\\pi}$."
   ]
  },
  {
   "cell_type": "markdown",
   "id": "earlier-disorder",
   "metadata": {},
   "source": [
    "We can calculate $u(r)$ directly by working with a Riccati-Bessel function:\n",
    "\n",
    "\\begin{equation}\n",
    " u(r) = \\frac{1}{2\\pi^2}\\int \\mathrm{d}q\\,q \\,\\hat{j_0}(qr) \\psi^{(+)}_k(q)\n",
    "\\end{equation}\n",
    "\n",
    "Note that there is now also only a single power of $q$ left because $j_0(qr) = \\hat{j_0}(qr)/(qr)$."
   ]
  },
  {
   "cell_type": "markdown",
   "id": "powerful-happening",
   "metadata": {},
   "source": [
    "Overall, we have the following expression:\n",
    "\n",
    "\\begin{equation}\n",
    " u(r) = \\frac{1}{2\\pi^2}\\int \\mathrm{d}q\\,q \\,\\hat{j_0}(qr)\n",
    " \\left[\\frac{2\\pi^2\\delta(q-k)}{k^2} + \\frac{2\\mu T(E_k;q,k)}{k^2 - q^2 + \\mathrm{i}\\varepsilon}\\right]\n",
    "\\end{equation}"
   ]
  },
  {
   "cell_type": "markdown",
   "id": "curious-punishment",
   "metadata": {},
   "source": [
    "The first part of this we can directly evaluate to find\n",
    "\n",
    "\\begin{equation}\n",
    " u(r) = \\hat{j_0}(kr)/k + \\cdots \\,,\n",
    "\\end{equation}\n",
    "\n",
    "with the $\\cdots$ left to be evaluated numerically."
   ]
  },
  {
   "cell_type": "markdown",
   "id": "lesbian-panel",
   "metadata": {},
   "source": [
    "Clearly that evaluation again involves a principal-value integration and in order to use our existing infrastructure for that it makes sense to write it again in terms of the Green's function:\n",
    "\n",
    "\\begin{equation}\n",
    " \\frac{2\\mu T(E_k;q,k)}{k^2 - q^2 + \\mathrm{i}\\varepsilon} = G_0(E_k+\\mathrm{i}\\varepsilon;q) T(E_k;q,k)\n",
    "\\end{equation}\n",
    "\n",
    "We finally arrive at the following implementation:"
   ]
  },
  {
   "cell_type": "code",
   "execution_count": null,
   "id": "swiss-professional",
   "metadata": {},
   "outputs": [],
   "source": [
    "from lib.riccati import *\n",
    "\n",
    "def u(sol, k, r):\n",
    "  mesh.push_pv(k)\n",
    "  \n",
    "  acc = 0\n",
    "  for qw, t in zip(mesh.pws(), sol):\n",
    "    acc += qw[1] * qw[0] \\\n",
    "      * riccati_j(0, qw[0] * r) \\\n",
    "      * (G0.residue(qw[0]) if qw[2] else G0(sys.e_from_k(k), qw[0])) \\\n",
    "      * t\n",
    "    \n",
    "  mesh.pop_pv()\n",
    "    \n",
    "  return riccati_j(0, k * r) / k + 0.5 * acc / np.pi**2"
   ]
  },
  {
   "cell_type": "code",
   "execution_count": null,
   "id": "czech-commissioner",
   "metadata": {},
   "outputs": [],
   "source": [
    "mesh = GaulegMesh(64, 0.0, 4.0)\n",
    "\n",
    "k = 1.0\n",
    "\n",
    "sol_k = solve(k)\n",
    "\n",
    "rs = np.linspace(0.0001, 20.0, 1000)\n",
    "us = list(map(lambda r: u(sol_k, k, r), rs))\n",
    "\n",
    "plt.plot(rs, np.real(us))\n",
    "plt.show()"
   ]
  },
  {
   "cell_type": "markdown",
   "id": "occupied-momentum",
   "metadata": {},
   "source": [
    "## Comparison"
   ]
  },
  {
   "cell_type": "markdown",
   "id": "legendary-strap",
   "metadata": {},
   "source": [
    "Let us compare this result to the direct calculation in configuration space:"
   ]
  },
  {
   "cell_type": "code",
   "execution_count": null,
   "id": "provincial-bible",
   "metadata": {},
   "outputs": [],
   "source": [
    "from scipy.integrate import odeint\n",
    "\n",
    "def radseq(uv, r, k, l):\n",
    "  u, v = uv\n",
    "  return [v, (l * (l + 1) / r**2 + 2.0 * sys.mu * V(r) - k**2) * u]\n",
    "\n",
    "uv0 = [0.0, 1.0]\n",
    "\n",
    "sol_r = odeint(radseq, uv0, rs, args=(k, 0))\n",
    "\n",
    "plt.plot(rs, sol_r[:, 0])\n",
    "plt.plot(rs, np.real(us))\n",
    "plt.show()"
   ]
  },
  {
   "cell_type": "markdown",
   "id": "anonymous-wrong",
   "metadata": {},
   "source": [
    "We can see that the two wavefunctions differ in their normalization, but otherwise they are in good agreement, an in particular their nodes coincide.  Indeed, picking a particular node $r_0$, we can use\n",
    "\n",
    "\\begin{equation}\n",
    " \\tan\\delta(p) = {-}\\frac{\\hat{j}_0(pr_0)}{\\hat{n}_0(pr_0)}\n",
    "\\end{equation}\n",
    "\n",
    "to calculate the phase shift from either solution and find good agreement:"
   ]
  },
  {
   "cell_type": "code",
   "execution_count": null,
   "id": "arctic-amino",
   "metadata": {},
   "outputs": [],
   "source": [
    "from scipy.interpolate import interp1d\n",
    "from scipy.optimize import root_scalar\n",
    "\n",
    "def delta(us):\n",
    "  u = interp1d(rs, us)\n",
    "\n",
    "  root = root_scalar(u, method='secant', x0=10.0, x1=10.1)\n",
    "  r0 = root.root\n",
    "\n",
    "  print(root)\n",
    "\n",
    "  return np.arctan(-riccati_j(0, k * r0) / riccati_n(0, k * r0))\n",
    "\n",
    "print(delta(sol_r[:, 0]))\n",
    "print(delta(np.imag(us)))"
   ]
  },
  {
   "cell_type": "markdown",
   "id": "smart-colon",
   "metadata": {},
   "source": [
    "Finally, let us analyze in what way exactly the normalizations are different."
   ]
  },
  {
   "cell_type": "markdown",
   "id": "later-thesaurus",
   "metadata": {},
   "source": [
    "For our configuration-space solution, the initial condition `uv0 = [0.0, 1.0]` normalizes the solution such that it has unit slope at the origin.  Naively, from the first term $\\hat{j_0}(kr)/k$ we might expect the same for the Fourier-transformed momentum-space solution, but the second term also contributes to all $r$, of course."
   ]
  },
  {
   "cell_type": "markdown",
   "id": "compact-generator",
   "metadata": {},
   "source": [
    "In fact, we find that our momentum-space calculation gives a **complex** wavefunction:"
   ]
  },
  {
   "cell_type": "code",
   "execution_count": null,
   "id": "external-ground",
   "metadata": {},
   "outputs": [],
   "source": [
    "plt.plot(rs, np.real(us))\n",
    "plt.plot(rs, np.imag(us))\n",
    "plt.show()"
   ]
  },
  {
   "cell_type": "markdown",
   "id": "underlying-vermont",
   "metadata": {},
   "source": [
    "The phase turns out to be exaclty the scattering phase shift!  We can rotate it away and obtain a real wavefunction:"
   ]
  },
  {
   "cell_type": "code",
   "execution_count": null,
   "id": "brutal-mississippi",
   "metadata": {},
   "outputs": [],
   "source": [
    "d = delta(np.real(us))\n",
    "\n",
    "us0 = list(map(lambda u: np.exp(-1j * d) * u, us))\n",
    "\n",
    "plt.plot(rs, np.real(us0))\n",
    "plt.plot(rs, np.imag(us0))\n",
    "plt.show()"
   ]
  },
  {
   "cell_type": "markdown",
   "id": "stunning-regulation",
   "metadata": {},
   "source": [
    "Moreover, we see that the result now has unit amplitude asymptotically, so we conclude that our $u(r)$ obtained from transforming the momentum-result is normalized such that\n",
    "\n",
    "\\begin{equation}\n",
    " u(r) = \\mathrm{e}^{\\mathrm{i}\\delta_0(k)}\\sin(kr + \\delta(k))\n",
    "\\end{equation}\n",
    "\n",
    "for $r\\to\\infty$.  In other words, it is is precisely what we call the **normalized solution**, denoted by\n",
    "$u_{l,k}(r)$ for a general partial wave $l$."
   ]
  },
  {
   "cell_type": "markdown",
   "id": "disciplinary-cancer",
   "metadata": {},
   "source": [
    "What we calculate with initial condition `uv0 = [0.0, 1.0]` in configuration space is, in turn, the **regular solution as defined by Newton**, $\\varphi(r)$, related to **Taylor's regular solution** via $\\varphi(r) = \\phi_{l,k}(r) / k$."
   ]
  },
  {
   "cell_type": "markdown",
   "id": "sublime-coverage",
   "metadata": {},
   "source": [
    "Overall we conclude that the normalization difference between the wavefunctions obtained from the \n",
    "two approaches is exactly the **Jost function** $J_0^+(k)$, since we know that\n",
    "\n",
    "\\begin{equation}\n",
    " u_{l,k}(r) = \\frac{\\phi_{l,k}(r)}{J_0^+(k)} \\,.\n",
    "\\end{equation}"
   ]
  },
  {
   "cell_type": "code",
   "execution_count": null,
   "id": "convertible-wichita",
   "metadata": {},
   "outputs": [],
   "source": []
  }
 ],
 "metadata": {
  "CodeCell": {
   "cm_config": {
    "indentUnit": 2
   }
  },
  "kernelspec": {
   "display_name": "Python 3",
   "language": "python",
   "name": "python3"
  },
  "language_info": {
   "codemirror_mode": {
    "name": "ipython",
    "version": 3
   },
   "file_extension": ".py",
   "mimetype": "text/x-python",
   "name": "python",
   "nbconvert_exporter": "python",
   "pygments_lexer": "ipython3",
   "version": "3.9.2"
  }
 },
 "nbformat": 4,
 "nbformat_minor": 5
}
