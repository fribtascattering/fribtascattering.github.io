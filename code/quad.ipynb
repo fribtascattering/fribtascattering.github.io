{
 "cells": [
  {
   "cell_type": "markdown",
   "id": "nervous-venue",
   "metadata": {},
   "source": [
    "# Numerical integration (quadrature)"
   ]
  },
  {
   "cell_type": "markdown",
   "id": "labeled-avatar",
   "metadata": {},
   "source": [
    "Python provides various \"black box\" routines to integrate a function, e.g., `quad` from `scipy.integrate`:"
   ]
  },
  {
   "cell_type": "code",
   "execution_count": null,
   "id": "ambient-conspiracy",
   "metadata": {},
   "outputs": [],
   "source": [
    "import numpy as np\n",
    "\n",
    "from scipy.integrate import quad\n",
    "\n",
    "f = lambda x: x**2 * np.cos(x)\n",
    "\n",
    "print(quad(f, 0.0, 1.0))"
   ]
  },
  {
   "cell_type": "markdown",
   "id": "temporal-grammar",
   "metadata": {},
   "source": [
    "These are very convenient to use and in many cases it is not necessary to know how they work internally."
   ]
  },
  {
   "cell_type": "markdown",
   "id": "excited-gateway",
   "metadata": {},
   "source": [
    "For solving integral equations, however, we need to work directly with a **quadrature rule**:\n",
    "\n",
    "\\begin{equation}\n",
    " I[f] = \\int_a^b f(x) \\, \\mathrm{d}x \\approx \\sum_i w_i f(x_i)\n",
    "\\end{equation}"
   ]
  },
  {
   "cell_type": "markdown",
   "id": "satellite-indicator",
   "metadata": {},
   "source": [
    "How could the approximation is depends on both the chosen points ($x_i$) and weights ($w_i$), as well as on properties of the function $f$. In special cases, a quadrature rule can be exact for a finite number of terms. \n",
    "In general, the approximation becomes better the more points are included in the sum."
   ]
  },
  {
   "cell_type": "markdown",
   "id": "whole-table",
   "metadata": {},
   "source": [
    "Our library provides a wrapper class for the commonly used **Gauss-Legendre** quadrature rule:"
   ]
  },
  {
   "cell_type": "code",
   "execution_count": null,
   "id": "rapid-background",
   "metadata": {},
   "outputs": [],
   "source": [
    "from lib.mesh import *\n",
    "\n",
    "mesh = GaulegMesh(16, 0.0, 1.0)"
   ]
  },
  {
   "cell_type": "markdown",
   "id": "incorrect-tamil",
   "metadata": {},
   "source": [
    "Points are not evenly spaced for this particular mesh, they are concentrated towards the end points:"
   ]
  },
  {
   "cell_type": "code",
   "execution_count": null,
   "id": "hidden-blanket",
   "metadata": {},
   "outputs": [],
   "source": [
    "print(mesh.ps())\n",
    "\n",
    "import matplotlib.pyplot as plt\n",
    "\n",
    "plt.plot(mesh.ps(), 0.0 * mesh.ps(), marker=\"o\")\n",
    "plt.show()"
   ]
  },
  {
   "cell_type": "markdown",
   "id": "complimentary-provider",
   "metadata": {},
   "source": [
    "But points in the middle have larger weight:"
   ]
  },
  {
   "cell_type": "code",
   "execution_count": null,
   "id": "focused-malta",
   "metadata": {},
   "outputs": [],
   "source": [
    "print(mesh.ps())\n",
    "\n",
    "plt.plot(mesh.ps(), mesh.ws(), marker=\"o\")\n",
    "plt.show()"
   ]
  },
  {
   "cell_type": "markdown",
   "id": "bound-logic",
   "metadata": {},
   "source": [
    "We can use the quadrature mesh to integrate again our function `f`:"
   ]
  },
  {
   "cell_type": "code",
   "execution_count": null,
   "id": "involved-handy",
   "metadata": {},
   "outputs": [],
   "source": [
    "acc = 0\n",
    "for i in range(0, mesh.n):\n",
    "  acc += mesh.ws()[i] * f(mesh.ps()[i])\n",
    "  \n",
    "print(acc)"
   ]
  },
  {
   "cell_type": "markdown",
   "id": "widespread-istanbul",
   "metadata": {},
   "source": [
    "Let us consider now another integral:\n",
    "\n",
    "\\begin{equation}\n",
    " I[g] = \\int_0^{100} \\frac{\\sin(x)}{1+x^2} \\,\\mathrm{d}x \\approx 0.6467\n",
    "\\end{equation}"
   ]
  },
  {
   "cell_type": "markdown",
   "id": "dependent-genealogy",
   "metadata": {},
   "source": [
    "If we integrate this with a 16-point Gauss-Legendre mesh, the result is still off by about 20%:"
   ]
  },
  {
   "cell_type": "code",
   "execution_count": null,
   "id": "vertical-locking",
   "metadata": {},
   "outputs": [],
   "source": [
    "g = lambda x: np.sin(x) / (1.0 + x**2)\n",
    "\n",
    "mesh1 = GaulegMesh(16, 0.0, 100.0)\n",
    "\n",
    "acc = 0\n",
    "for i in range(0, mesh.n):\n",
    "  acc += mesh1.ws()[i] * g(mesh1.ps()[i])\n",
    "  \n",
    "print(acc)"
   ]
  },
  {
   "cell_type": "markdown",
   "id": "trained-empire",
   "metadata": {},
   "source": [
    "The most obvious way to improve this is to increase the number of mesh points, but we can in fact improve the accuracy another way, *using the same number of points*."
   ]
  },
  {
   "cell_type": "markdown",
   "id": "suitable-attitude",
   "metadata": {},
   "source": [
    "The key is to recognize that due to the denominator, most of the contribution to the integral comes from small $x$.  To account for this, we want to modify our mesh in such a way that there are more points in the small-$x$ region.  One way to achieve this is of course to simply split up the integration domain and discretize each interval separately; this can be useful in cases where physics provides guidance where to put the splitting point."
   ]
  },
  {
   "cell_type": "markdown",
   "id": "religious-corporation",
   "metadata": {},
   "source": [
    "Lacking that, we can alternatively use a **variable transformation** to change the density of mesh points: let $x=\\alpha(y)$ in\n",
    "\n",
    "\\begin{equation}\n",
    " I[f] = \\int_a^b f(x) \\, \\mathrm{d}x \\,,\n",
    "\\end{equation}\n",
    "\n",
    "then we can create a standard Gauss-Legendre quadrature on the interval $[\\alpha^{-1}(a),\\alpha^{-1}(b)]$, yielding $(y_i,w_i)$, and calculate the final points and weights as follows:\n",
    "\n",
    "\\begin{align}\n",
    " x_i &= \\alpha(y_i) \\,, \\\\\n",
    " w_i &\\to \\alpha'(y_i)\\, w_i \\,.\n",
    "\\end{align}"
   ]
  },
  {
   "cell_type": "markdown",
   "id": "virtual-smile",
   "metadata": {},
   "source": [
    "A particular choice is $\\alpha(y) = \\exp(y)-1$, which produces a logarithmic distribution of points.  Our library already provides a mesh class that does exactly this:"
   ]
  },
  {
   "cell_type": "code",
   "execution_count": null,
   "id": "undefined-israel",
   "metadata": {},
   "outputs": [],
   "source": [
    "mesh2 = ExpGaulegMesh(16, 0.0, 100.0)\n",
    "\n",
    "print(mesh2.ps())\n",
    "\n",
    "plt.plot(mesh2.ps(), mesh2.ws(), marker=\"o\")\n",
    "plt.show()"
   ]
  },
  {
   "cell_type": "markdown",
   "id": "growing-jonathan",
   "metadata": {},
   "source": [
    "And indeed we find that this mesh now brings us within less than 5% of the converged result:"
   ]
  },
  {
   "cell_type": "code",
   "execution_count": null,
   "id": "cathedral-think",
   "metadata": {},
   "outputs": [],
   "source": [
    "acc = 0\n",
    "for i in range(0, mesh.n):\n",
    "  acc += mesh2.ws()[i] * g(mesh2.ps()[i])\n",
    "  \n",
    "print(acc)"
   ]
  },
  {
   "cell_type": "markdown",
   "id": "advanced-champagne",
   "metadata": {},
   "source": [
    "Importantly, the same trick can be used to improve convergence when the integrand *a priori* unknown, i.e., when we are solving an integral equation."
   ]
  }
 ],
 "metadata": {
  "CodeCell": {
   "cm_config": {
    "indentUnit": 2
   }
  },
  "kernelspec": {
   "display_name": "Python 3",
   "language": "python",
   "name": "python3"
  },
  "language_info": {
   "codemirror_mode": {
    "name": "ipython",
    "version": 3
   },
   "file_extension": ".py",
   "mimetype": "text/x-python",
   "name": "python",
   "nbconvert_exporter": "python",
   "pygments_lexer": "ipython3",
   "version": "3.9.2"
  }
 },
 "nbformat": 4,
 "nbformat_minor": 5
}
