{
 "cells": [
  {
   "cell_type": "markdown",
   "id": "caring-morning",
   "metadata": {},
   "source": [
    "# Lippmann-Schwinger equation in momentum space"
   ]
  },
  {
   "cell_type": "markdown",
   "id": "every-incentive",
   "metadata": {},
   "source": [
    "We consider here the Lippmann-Schwinger equation in a fixed partial wave, written in momentum space as:\n",
    "\n",
    "\\begin{equation}\n",
    "T(E_k+\\mathrm{i}\\varepsilon;p,k) = V(p,k)\n",
    "+\\int\\frac{\\mathrm{d}q\\,q^2}{2\\pi^2} V(p,q)\n",
    "G_0(E_k+\\mathrm{i}\\varepsilon;q)\n",
    "T(E_k+\\mathrm{i}\\varepsilon;q,k) \\,,\n",
    "\\end{equation}\n",
    "\n",
    "with $\\varepsilon\\to0$ implied."
   ]
  },
  {
   "cell_type": "markdown",
   "id": "valued-gateway",
   "metadata": {},
   "source": [
    "## System and potential"
   ]
  },
  {
   "cell_type": "markdown",
   "id": "emerging-roots",
   "metadata": {},
   "source": [
    "Let us first define our system.  We study here the simplest possible case and set the mass $m=1$ as well as $\\hbar c=1$.  This is actually the default for the `System` helper class we use:"
   ]
  },
  {
   "cell_type": "code",
   "execution_count": null,
   "id": "cooked-austin",
   "metadata": {},
   "outputs": [],
   "source": [
    "from lib.system import *\n",
    "\n",
    "sys = System()\n",
    "\n",
    "print(sys)"
   ]
  },
  {
   "cell_type": "markdown",
   "id": "premium-roots",
   "metadata": {},
   "source": [
    "Now let us pick a potential.  We arbitrarily choose an attractive Gaussian potential with depth $V_0={-}4$ and range $R=2$."
   ]
  },
  {
   "cell_type": "code",
   "execution_count": null,
   "id": "northern-oliver",
   "metadata": {},
   "outputs": [],
   "source": [
    "from lib.potential import *\n",
    "\n",
    "V = V_Gauss(sys, -4.0, 2.0)\n",
    "\n",
    "V.show()"
   ]
  },
  {
   "cell_type": "markdown",
   "id": "included-double",
   "metadata": {},
   "source": [
    "## Mesh setup"
   ]
  },
  {
   "cell_type": "markdown",
   "id": "ancient-iraqi",
   "metadata": {},
   "source": [
    "Our first task is to discretize the momentum integral.  To that end we use a quadrature rule and replace\n",
    "\n",
    "\\begin{equation}\n",
    " \\int \\mathrm{d}q\\,q^2 \\longrightarrow \\sum_j w_j p_j^2\n",
    "\\end{equation}"
   ]
  },
  {
   "cell_type": "code",
   "execution_count": null,
   "id": "legitimate-treasurer",
   "metadata": {},
   "outputs": [],
   "source": [
    "from lib.mesh import *"
   ]
  },
  {
   "cell_type": "markdown",
   "id": "becoming-armenia",
   "metadata": {},
   "source": [
    "While it is possible to define a quadrature rule on the infinite interval $[0,\\infty)$, using a coordinate transformation that maps it onto a compact interval, in practice it is easier an to pick a sufficiently large\n",
    "upper bound $p_{\\text{max}}$.  For guidance how to choose this, we look at the potential in momentum space:"
   ]
  },
  {
   "cell_type": "code",
   "execution_count": null,
   "id": "classified-medication",
   "metadata": {
    "scrolled": false
   },
   "outputs": [],
   "source": [
    "V.show(rep='p', max=6.0)"
   ]
  },
  {
   "cell_type": "markdown",
   "id": "japanese-staff",
   "metadata": {},
   "source": [
    "This suggests that $p_{\\text{max}}=4.0$ is sufficient.  We use this, and furthermore set the number of mesh points to 16.  **Both choices should later be varied to check that the calculation is sufficiently converged!**"
   ]
  },
  {
   "cell_type": "code",
   "execution_count": null,
   "id": "forty-culture",
   "metadata": {},
   "outputs": [],
   "source": [
    "mesh = GaulegMesh(16, 0.0, 4.0)"
   ]
  },
  {
   "cell_type": "markdown",
   "id": "obvious-philippines",
   "metadata": {},
   "source": [
    "## Green's function"
   ]
  },
  {
   "cell_type": "markdown",
   "id": "abandoned-lightweight",
   "metadata": {},
   "source": [
    "The last ingredient we need is the free Green's function\n",
    "\n",
    "\\begin{equation}\n",
    " G_0(E;q) = \\frac{1}{E-q^2}\n",
    "\\end{equation}"
   ]
  },
  {
   "cell_type": "markdown",
   "id": "amateur-currency",
   "metadata": {},
   "source": [
    "It is for convenience provided by our helper library, and it takes the `System` object to determine the proper conversion between energy and momentum.  In our case ($m=2\\mu=1$), $E=E_k=k^2$."
   ]
  },
  {
   "cell_type": "code",
   "execution_count": null,
   "id": "golden-apple",
   "metadata": {},
   "outputs": [],
   "source": [
    "from lib.operator import *\n",
    "\n",
    "G0 = G_0(sys)"
   ]
  },
  {
   "cell_type": "markdown",
   "id": "actual-climb",
   "metadata": {},
   "source": [
    "Our $G_0(E_k,q)$ has a pole at q = k:"
   ]
  },
  {
   "cell_type": "code",
   "execution_count": null,
   "id": "flying-format",
   "metadata": {},
   "outputs": [],
   "source": [
    "import matplotlib.pyplot as plt\n",
    "\n",
    "k = 1.0\n",
    "\n",
    "plt.plot(mesh.ps(), G0(sys.e_from_k(k), mesh.ps()), marker=\"o\")\n",
    "plt.show()"
   ]
  },
  {
   "cell_type": "markdown",
   "id": "disciplinary-failing",
   "metadata": {},
   "source": [
    "The residue at the pole is also provided by the class:"
   ]
  },
  {
   "cell_type": "code",
   "execution_count": null,
   "id": "disturbed-distinction",
   "metadata": {},
   "outputs": [],
   "source": [
    "print(G0.residue(k))"
   ]
  },
  {
   "cell_type": "markdown",
   "id": "premium-grill",
   "metadata": {},
   "source": [
    "This we will need to carry out the principal-value integration."
   ]
  },
  {
   "cell_type": "markdown",
   "id": "behind-pharmaceutical",
   "metadata": {},
   "source": [
    "## Kernel matrix construction"
   ]
  },
  {
   "cell_type": "markdown",
   "id": "owned-publication",
   "metadata": {},
   "source": [
    "We can now set up a matrix-vector equation that represents the discretize Lippmann-Schwinger equation, starting with the *kernel matrix*:\n",
    "\n",
    "\\begin{equation}\n",
    " K_{ij}(E_k) = \\frac{w_jp_j^2}{2\\pi^2} V(p_i,p_j) G_0(E_k;p_j)\n",
    "\\end{equation}"
   ]
  },
  {
   "cell_type": "markdown",
   "id": "impossible-wrapping",
   "metadata": {},
   "source": [
    "We have here replaced the integral by the quadrature, and chose the momentum $p$ as a point (indexed by $i$) on the same mesh."
   ]
  },
  {
   "cell_type": "markdown",
   "id": "standard-february",
   "metadata": {},
   "source": [
    "Note that the energy $E_k$ is still a free parameter at this point, with momentum $k$ not associated with the mesh.  However, we need to pick $k$ and prepare the mesh for the principal value integration.  This is done as follows:"
   ]
  },
  {
   "cell_type": "code",
   "execution_count": null,
   "id": "amber-essence",
   "metadata": {},
   "outputs": [],
   "source": [
    "k = 1.0\n",
    "\n",
    "mesh.push_pv(k)\n",
    "\n",
    "print(mesh.ps())\n",
    "print(mesh.ws())\n",
    "\n",
    "mesh.pop_pv()"
   ]
  },
  {
   "cell_type": "markdown",
   "id": "golden-evidence",
   "metadata": {},
   "source": [
    "We can see that the extra point and weight are added at the *end* of the mesh, but that is an *implementation detail* that a user of the `Mesh` class should not need to know about.  To realize that, there is a method `Mesh.psw()` that returns triples, with the first two entries giving the point and weight, and the third entry being a Boolean that indicates whether or not the point represents a pole contribution:"
   ]
  },
  {
   "cell_type": "code",
   "execution_count": null,
   "id": "oriented-disclaimer",
   "metadata": {},
   "outputs": [],
   "source": [
    "mesh.push_pv(k)\n",
    "\n",
    "for pw in mesh.pws():\n",
    "  print(pw)\n",
    "  \n",
    "mesh.pop_pv()"
   ]
  },
  {
   "cell_type": "markdown",
   "id": "phantom-decimal",
   "metadata": {},
   "source": [
    "An advantage of this, and the `push_pv()`/`pop_pv()` interface overall, is that the mesh class in principle supports an aribitrary number of pole terms."
   ]
  },
  {
   "cell_type": "markdown",
   "id": "communist-appointment",
   "metadata": {},
   "source": [
    "**Note that after each usage the mesh should be restored to its default state by calling `pop_pv()`!**"
   ]
  },
  {
   "cell_type": "markdown",
   "id": "hundred-lucas",
   "metadata": {},
   "source": [
    "We can now use this to construct the matrix.  Instead of manually looping to write rows and columns, we use `map()` here in the spirit of functional programming:"
   ]
  },
  {
   "cell_type": "code",
   "execution_count": null,
   "id": "hundred-shell",
   "metadata": {},
   "outputs": [],
   "source": [
    "def kernel(E):\n",
    "  factor = 0.5 / np.pi**2\n",
    "                                                                                     \n",
    "  K = map(\n",
    "    lambda p: list(map(\n",
    "      lambda qw: factor * qw[1] * qw[0]**2 \\\n",
    "        * (G0.residue(qw[0]) if qw[2] else G0(E, qw[0])) \\\n",
    "        * V.get(0, p, qw[0]),\n",
    "      mesh.pws()\n",
    "    )), mesh.ps()\n",
    "  )\n",
    "\n",
    "  return np.asarray(list(K))  "
   ]
  },
  {
   "cell_type": "code",
   "execution_count": null,
   "id": "south-decimal",
   "metadata": {},
   "outputs": [],
   "source": [
    "mesh.push_pv(k)\n",
    "print(kernel(sys.e_from_k(k))[:, 0:3])\n",
    "mesh.pop_pv()"
   ]
  },
  {
   "cell_type": "markdown",
   "id": "enclosed-cedar",
   "metadata": {},
   "source": [
    "## Solving the equation"
   ]
  },
  {
   "cell_type": "markdown",
   "id": "foster-indicator",
   "metadata": {},
   "source": [
    "The inhomogeneous term in the Lippmann-Schwinger equation, $V(p,k)$ is trivially discretized by setting $p=p_i$, as done for the construction of $K_{ij}$.  Schematically, we then obtain an equation of the form\n",
    "\n",
    "\\begin{equation}\n",
    " T_i = V_i + \\sum_j K_{ij} T_j \\,,\n",
    "\\end{equation}\n",
    "\n",
    "which can be brought into the standard form for a linear equation system as follows:\n",
    "\n",
    "\\begin{equation}\n",
    " \\sum_j (\\delta_{ij} - K_{ij}) T_j  = V_i \\,.\n",
    "\\end{equation}\n",
    "\n",
    "It his this form that we solve numerically:"
   ]
  },
  {
   "cell_type": "code",
   "execution_count": null,
   "id": "outer-argument",
   "metadata": {},
   "outputs": [],
   "source": [
    "def solve(k):\n",
    "  mesh.push_pv(k)\n",
    "  \n",
    "  mat = np.identity(mesh.size()) - kernel(sys.e_from_k(k))\n",
    "  vec = np.asarray(list(map(lambda p: V.get(0, p, k), mesh.ps())))\n",
    "  \n",
    "  sol = np.linalg.solve(mat, vec)\n",
    "  \n",
    "  mesh.pop_pv()\n",
    "  \n",
    "  return sol;"
   ]
  },
  {
   "cell_type": "code",
   "execution_count": null,
   "id": "abandoned-patent",
   "metadata": {},
   "outputs": [],
   "source": [
    "print(solve(k))"
   ]
  },
  {
   "cell_type": "markdown",
   "id": "above-currency",
   "metadata": {},
   "source": [
    "The result is a whole vector, representing the *half off-shell T-matrix* on our mesh.  From the implementation of the principal-value integration we know again that the *on-shell value* is the last entry in this vector, but again we strive not to rely on such details.\n",
    "\n",
    "One way to avoid this would be using the Lippmann-Schwinger equation with the solution vector $T_i$ inserted to interpolate the value for the on-shell point.  However, here we pick a simpler alternative and exploit that `push_pv()` actually returns the index of the newly added point:"
   ]
  },
  {
   "cell_type": "code",
   "execution_count": null,
   "id": "photographic-missile",
   "metadata": {},
   "outputs": [],
   "source": [
    "def solve_on_shell(k):\n",
    "  i0 = mesh.push_pv(k)\n",
    "  \n",
    "  mat = np.identity(mesh.size()) - kernel(sys.e_from_k(k))\n",
    "  vec = np.asarray(list(map(lambda p: V.get(0, p, k), mesh.ps())))\n",
    "  \n",
    "  sol = np.linalg.solve(mat, vec)\n",
    "  \n",
    "  mesh.pop_pv()\n",
    "  \n",
    "  return sol[i0];"
   ]
  },
  {
   "cell_type": "code",
   "execution_count": null,
   "id": "better-ministry",
   "metadata": {},
   "outputs": [],
   "source": [
    "T = solve_on_shell(k)\n",
    "\n",
    "print(T)"
   ]
  },
  {
   "cell_type": "markdown",
   "id": "sustained-skiing",
   "metadata": {},
   "source": [
    "We can verify that this has the expected form $T = {-}\\dfrac{2\\pi}{\\mu}\\dfrac{1}{k\\cot\\delta(k)-\\mathrm{i}k}$:"
   ]
  },
  {
   "cell_type": "code",
   "execution_count": null,
   "id": "healthy-vehicle",
   "metadata": {},
   "outputs": [],
   "source": [
    "print(-2.0 * np.pi / (k * sys.mu) * (1.0 / T))"
   ]
  },
  {
   "cell_type": "markdown",
   "id": "instrumental-luxury",
   "metadata": {},
   "source": [
    "And we can also calculate the phase shift:"
   ]
  },
  {
   "cell_type": "code",
   "execution_count": null,
   "id": "selective-package",
   "metadata": {},
   "outputs": [],
   "source": [
    "cot_delta = -2.0 * np.pi / (k * sys.mu) * (1.0 / T) + 1j\n",
    "delta = np.arctan(1.0 / cot_delta).real\n",
    "                 \n",
    "print(\"delta = %g degrees\" % np.rad2deg(delta))"
   ]
  }
 ],
 "metadata": {
  "CodeCell": {
   "cm_config": {
    "indentUnit": 2
   }
  },
  "kernelspec": {
   "display_name": "Python 3",
   "language": "python",
   "name": "python3"
  },
  "language_info": {
   "codemirror_mode": {
    "name": "ipython",
    "version": 3
   },
   "file_extension": ".py",
   "mimetype": "text/x-python",
   "name": "python",
   "nbconvert_exporter": "python",
   "pygments_lexer": "ipython3",
   "version": "3.9.2"
  }
 },
 "nbformat": 4,
 "nbformat_minor": 5
}
