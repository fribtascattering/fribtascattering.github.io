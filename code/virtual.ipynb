{
 "cells": [
  {
   "cell_type": "markdown",
   "id": "mighty-regard",
   "metadata": {},
   "source": [
    "# Virtual state generated with separable contact interaction"
   ]
  },
  {
   "cell_type": "markdown",
   "id": "necessary-subscription",
   "metadata": {},
   "source": [
    "---\n",
    "This code is made available as part of the **FRIB-TA Summer School: A Practical Walk Through Formal Scattering Theory: Connecting Bound States, Resonances, and Scattering States in Exotic Nuclei and Beyond**, held virtually\n",
    "August 4-6, 2021.\n",
    "\n",
    "https://fribtascattering.github.io/\n",
    "\n",
    "*Organizers/Lecturers:*\n",
    "- Kévin Fossez (MSU/ANL)\n",
    "- Sebastian König (NCSU)\n",
    "- Heiko Hergert (MSU)\n",
    "\n",
    "*Author:* Sebastian König\n",
    "\n",
    "*Last update:* Aug 11, 2021\n",
    "\n",
    "---"
   ]
  },
  {
   "cell_type": "markdown",
   "id": "representative-savings",
   "metadata": {},
   "source": [
    "## System and potential"
   ]
  },
  {
   "cell_type": "markdown",
   "id": "nominated-glance",
   "metadata": {},
   "source": [
    "We start once again by defining a system with mass $m=1$ and $\\hbar=1$."
   ]
  },
  {
   "cell_type": "code",
   "execution_count": null,
   "id": "realistic-judgment",
   "metadata": {},
   "outputs": [],
   "source": [
    "from lib.system import *\n",
    "\n",
    "sys = System()\n",
    "\n",
    "print(sys)"
   ]
  },
  {
   "cell_type": "markdown",
   "id": "effective-heritage",
   "metadata": {},
   "source": [
    "And we keep using a separable contact interaction:\n",
    "\n",
    "\\begin{equation}\n",
    " V(p,q) = C_0 g(p) g(q) \\ ,\\ g(p) = \\exp({-}p^2/\\Lambda^2) \\,.\n",
    "\\end{equation}"
   ]
  },
  {
   "cell_type": "code",
   "execution_count": null,
   "id": "fallen-earth",
   "metadata": {},
   "outputs": [],
   "source": [
    "from lib.potential import *\n",
    "\n",
    "import numpy as np\n",
    "\n",
    "class GaussContactPotential(Potential):\n",
    "  def __init__(self, sys, C0, Lambda):\n",
    "    super().__init__(sys, \"V_GaussContact\")\n",
    "    \n",
    "    self.C0 = C0\n",
    "    self.Lambda = Lambda\n",
    "    \n",
    "  def get(self, ell, p, q):\n",
    "    if ell != 0:\n",
    "      raise RuntimeError(\"Invalid angular momentum!\")\n",
    "      \n",
    "    def g(p):\n",
    "      return np.exp(-p**2 / self.Lambda**2)\n",
    "    \n",
    "    return self.C0 * g(p) * g(q)"
   ]
  },
  {
   "cell_type": "markdown",
   "id": "optimum-burden",
   "metadata": {},
   "source": [
    "In the limit $\\Lambda\\to\\infty$ we obtain a pure contact (zero-range) interaction."
   ]
  },
  {
   "cell_type": "markdown",
   "id": "composite-declaration",
   "metadata": {},
   "source": [
    "## Equation solving and interaction fitting"
   ]
  },
  {
   "cell_type": "markdown",
   "id": "initial-wallace",
   "metadata": {},
   "source": [
    "The infrastructure for determining $C_0$ is also exactly the same as before:"
   ]
  },
  {
   "cell_type": "code",
   "execution_count": null,
   "id": "handmade-gothic",
   "metadata": {},
   "outputs": [],
   "source": [
    "from lib.mesh import *\n",
    "from lib.operator import *\n",
    "\n",
    "mesh = GaulegMesh(16, 0.0, 4.0)\n",
    "\n",
    "G0 = G_0(sys)"
   ]
  },
  {
   "cell_type": "code",
   "execution_count": null,
   "id": "infrared-concord",
   "metadata": {},
   "outputs": [],
   "source": [
    "def kernel(V, E):\n",
    "  factor = 0.5 / np.pi**2\n",
    "                                                                                     \n",
    "  K = map(\n",
    "    lambda p: list(map(\n",
    "      lambda qw: factor * qw[1] * qw[0]**2 \\\n",
    "        * (G0.residue(qw[0]) if qw[2] else G0(E, qw[0])) \\\n",
    "        * V.get(0, p, qw[0]),\n",
    "      mesh.pws()\n",
    "    )), mesh.ps()\n",
    "  )\n",
    "\n",
    "  return np.asarray(list(K))  "
   ]
  },
  {
   "cell_type": "code",
   "execution_count": null,
   "id": "aging-bangkok",
   "metadata": {},
   "outputs": [],
   "source": [
    "def solve_on_shell(V, k):\n",
    "  i0 = mesh.push_pv(k)\n",
    "  \n",
    "  mat = np.identity(mesh.size()) - kernel(V, sys.e_from_k(k))\n",
    "  vec = np.asarray(list(map(lambda p: V.get(0, p, k), mesh.ps())))\n",
    "  \n",
    "  sol = np.linalg.solve(mat, vec)\n",
    "  \n",
    "  mesh.pop_pv()\n",
    "  \n",
    "  return sol[i0];"
   ]
  },
  {
   "cell_type": "code",
   "execution_count": null,
   "id": "fuzzy-engineering",
   "metadata": {},
   "outputs": [],
   "source": [
    "p0 = 0.001\n",
    "\n",
    "def a_scatt(C0):\n",
    "  return 0.5 * sys.mu / np.pi * solve_on_shell(\n",
    "    GaussContactPotential(sys, C0, Lambda),\n",
    "    p0\n",
    "  ).real"
   ]
  },
  {
   "cell_type": "code",
   "execution_count": null,
   "id": "obvious-stack",
   "metadata": {},
   "outputs": [],
   "source": [
    "Lambda = 2.0\n",
    "\n",
    "mesh = GaulegMesh(32, 0.0, 3.0 * Lambda)\n",
    "\n",
    "c0s = np.linspace(-17.0, -15.0, 64)\n",
    "\n",
    "plt.plot(c0s, np.vectorize(a_scatt)(c0s))\n",
    "plt.show()"
   ]
  },
  {
   "cell_type": "markdown",
   "id": "consecutive-therapy",
   "metadata": {},
   "source": [
    "However, we now determine $C_0$ such that we obtain a *large negative scattering length* $a_0={-}50.0$:"
   ]
  },
  {
   "cell_type": "code",
   "execution_count": null,
   "id": "realistic-throw",
   "metadata": {},
   "outputs": [],
   "source": [
    "from scipy.optimize import root_scalar"
   ]
  },
  {
   "cell_type": "code",
   "execution_count": null,
   "id": "serious-biodiversity",
   "metadata": {},
   "outputs": [],
   "source": [
    "a0 = -50.0\n",
    "\n",
    "root = root_scalar(\n",
    "  lambda c: a_scatt(c) - a0,\n",
    "  method='secant',\n",
    "  x0=-15.6,\n",
    "  x1=-15.5\n",
    ")\n",
    "\n",
    "print(root)"
   ]
  },
  {
   "cell_type": "code",
   "execution_count": null,
   "id": "incorrect-subdivision",
   "metadata": {},
   "outputs": [],
   "source": [
    "V0 = GaussContactPotential(sys, root.root, Lambda)"
   ]
  },
  {
   "cell_type": "markdown",
   "id": "official-concentration",
   "metadata": {},
   "source": [
    "## Bound-state and virtual-state searches"
   ]
  },
  {
   "cell_type": "markdown",
   "id": "meaning-shower",
   "metadata": {},
   "source": [
    "If we look for a bound state, we can now see there is none:"
   ]
  },
  {
   "cell_type": "code",
   "execution_count": null,
   "id": "taken-attachment",
   "metadata": {
    "scrolled": true
   },
   "outputs": [],
   "source": [
    "def det(E):\n",
    "  return np.linalg.det(np.identity(mesh.size()) - kernel(V0, E))"
   ]
  },
  {
   "cell_type": "code",
   "execution_count": null,
   "id": "egyptian-relevance",
   "metadata": {},
   "outputs": [],
   "source": [
    "es = np.linspace(-0.001, 0.0, 64)\n",
    "\n",
    "plt.plot(es, np.vectorize(det)(es))\n",
    "plt.show()"
   ]
  },
  {
   "cell_type": "markdown",
   "id": "solved-wings",
   "metadata": {},
   "source": [
    "Indeed, we can easilty see that this should be so by considering again the T-matrix:\n",
    "\n",
    "\\begin{equation}\n",
    " T(E_k;k,k) = {-}\\frac{2\\pi}{\\mu}\\frac{1}{{-}1/a+\\cdots-\\mathrm{i}k}\n",
    "\\end{equation}\n",
    "\n",
    "Neglecting the \"$\\cdots$,\" this has a pole at $k=\\mathrm{i}/{a}$.  For $a>0$ this gives the bound state we found previously.  But now that we picked $C_0$ such that we get $a<0$, we see that the pole has moved to the\n",
    "negative imaginary axis, i.e., it has become a **virtual state**."
   ]
  },
  {
   "cell_type": "markdown",
   "id": "steady-reaction",
   "metadata": {},
   "source": [
    "In the energy plane, it is located on the second sheet, so we need to analytically continue the Lippmann-Schwinger equation to find it.  In the lecture it was shown that this can be achieved by replacing the potential with a modified expression:\n",
    "\n",
    "\\begin{equation}\n",
    " V(p,q) \\rightarrow \\tilde{V}(q_0;p,q) = V(p,q) - V(p,q_0)\n",
    " \\frac{\\mathrm{i}\\mu q_0/\\pi}{1 + \\mathrm{i}\\mu q_0/\\pi V(q_0,q_0)}\n",
    " V(q_0,q) \\,,\n",
    "\\end{equation}\n",
    "\n",
    "where $q_0 = \\sqrt{2\\mu E}$."
   ]
  },
  {
   "cell_type": "markdown",
   "id": "boring-savings",
   "metadata": {},
   "source": [
    "This is straightforward to implement:"
   ]
  },
  {
   "cell_type": "code",
   "execution_count": null,
   "id": "overhead-bernard",
   "metadata": {},
   "outputs": [],
   "source": [
    "class V_cont(Potential):\n",
    "  def __init__(self, sys, V, q0):\n",
    "    super().__init__(sys, \"V_cont\")\n",
    "    \n",
    "    self.V = V\n",
    "    self.q0 = q0\n",
    "    \n",
    "  def get(self, ell, p, q):\n",
    "    factor = self.sys.mu * 1.0j * self.q0 / np.pi\n",
    "    \n",
    "    v0 = self.V.get(ell, self.q0, self.q0)\n",
    "    v1 = self.V.get(ell, p, self.q0)\n",
    "    v2 = self.V.get(ell, self.q0, q)\n",
    "    \n",
    "    return self.V.get(ell, p, q) - v1 * factor / (1.0 + factor * v0) * v2"
   ]
  },
  {
   "cell_type": "markdown",
   "id": "green-shipping",
   "metadata": {},
   "source": [
    "With this \"adaptor\" potential class, we can define the determinant function to search for a solution of the homogeneous equation on the second sheet.  For the special case of searching for a virtual state (real $E<0$)\n",
    "we manually pick the appropriate branch of the square root to obtain $q_0$ with $\\text{Im}\\,q_0<0$:"
   ]
  },
  {
   "cell_type": "code",
   "execution_count": null,
   "id": "corporate-struggle",
   "metadata": {},
   "outputs": [],
   "source": [
    "def det_II(E):\n",
    "  q0 = -np.sqrt(2.0 * sys.mu * (E + 0j))\n",
    "  VV = V_cont(sys, V0, q0)\n",
    "  \n",
    "  return np.linalg.det(np.identity(mesh.size()) - kernel(VV, E)).real"
   ]
  },
  {
   "cell_type": "markdown",
   "id": "veterinary-video",
   "metadata": {},
   "source": [
    "As before, we first look at a plot..."
   ]
  },
  {
   "cell_type": "code",
   "execution_count": null,
   "id": "sharing-brass",
   "metadata": {},
   "outputs": [],
   "source": [
    "es = np.linspace(-0.001, 0.0, 64)\n",
    "\n",
    "plt.plot(es, np.vectorize(det_II)(es))\n",
    "plt.show()"
   ]
  },
  {
   "cell_type": "markdown",
   "id": "nuclear-treasurer",
   "metadata": {},
   "source": [
    "...and then properly search for the virtual state:"
   ]
  },
  {
   "cell_type": "code",
   "execution_count": null,
   "id": "known-priority",
   "metadata": {},
   "outputs": [],
   "source": [
    "root = root_scalar(\n",
    "  det_II,\n",
    "  method='secant',\n",
    "  x0=-0.0006,\n",
    "  x1=-0.0005\n",
    ")\n",
    "\n",
    "print(root)"
   ]
  },
  {
   "cell_type": "markdown",
   "id": "limiting-inside",
   "metadata": {},
   "source": [
    "Again we observe decent agreement with the expectation $E = {-}1/(2\\mu a_0^2)$:"
   ]
  },
  {
   "cell_type": "code",
   "execution_count": null,
   "id": "structured-embassy",
   "metadata": {},
   "outputs": [],
   "source": [
    "print(-1.0 / (2.0 * sys.mu * a0**2))"
   ]
  },
  {
   "cell_type": "markdown",
   "id": "union-expansion",
   "metadata": {},
   "source": [
    "The relative deviation from the exact zero-range result is of the same order as for the bound state we found corresponding to $a_0={+}50.0$."
   ]
  }
 ],
 "metadata": {
  "CodeCell": {
   "cm_config": {
    "indentUnit": 2
   }
  },
  "kernelspec": {
   "display_name": "Python 3",
   "language": "python",
   "name": "python3"
  },
  "language_info": {
   "codemirror_mode": {
    "name": "ipython",
    "version": 3
   },
   "file_extension": ".py",
   "mimetype": "text/x-python",
   "name": "python",
   "nbconvert_exporter": "python",
   "pygments_lexer": "ipython3",
   "version": "3.9.2"
  }
 },
 "nbformat": 4,
 "nbformat_minor": 5
}
